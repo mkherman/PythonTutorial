{
 "cells": [
  {
   "cell_type": "markdown",
   "metadata": {},
   "source": [
    "# Lesson 3: If, Else, and Elif #"
   ]
  },
  {
   "cell_type": "markdown",
   "metadata": {},
   "source": [
    "An `if` **statement** is a conditional statement that executes some specified code if a particular condition is met. Generally the condition is that a particular expression must be `True`. The syntax of an `if` statement is very important, so let's look at an example:"
   ]
  },
  {
   "cell_type": "code",
   "execution_count": 1,
   "metadata": {},
   "outputs": [
    {
     "name": "stdout",
     "output_type": "stream",
     "text": [
      "Five is greater than three\n"
     ]
    }
   ],
   "source": [
    "if 5 > 3:\n",
    "    print('Five is greater than three')"
   ]
  },
  {
   "cell_type": "markdown",
   "metadata": {},
   "source": [
    "Here, we check whether 5 is greater than 3, and since this is `True`, the specified `print` statement is executed.\n",
    "\n",
    "The first thing to notice in the syntax of an `if` statement is that the first line must always end with a colon `:`. The second thing is that the line(s) below it must be indented. This indentation is called **white space**, and it lets Python know that this is a new block of code. Specifically, any code we indent after an `if` statement will only be executed if our expression is `True`. Any code that we don't indent will execute regardless of whether our expression is `True` or not. \n",
    "\n",
    "For instance, check out the output below, then try changing the variable `animal` to see how the output changes."
   ]
  },
  {
   "cell_type": "code",
   "execution_count": 4,
   "metadata": {},
   "outputs": [
    {
     "name": "stdout",
     "output_type": "stream",
     "text": [
      "Duck, duck, duck...\n",
      "Goose!\n"
     ]
    }
   ],
   "source": [
    "animal = 'duck'\n",
    "\n",
    "if animal == 'duck':\n",
    "    print('Duck, duck, duck...')\n",
    "\n",
    "print('Goose!')"
   ]
  },
  {
   "cell_type": "markdown",
   "metadata": {},
   "source": [
    "One important note about indentation: Python isn't very picky about what type of indentation you use (2 spaces, 4 spaces, tab, etc.) as long as you're consistent. If you forget to indent your block of code, switch from tabs to spaces, or use an inconsistent number of spaces, you'll get an error:"
   ]
  },
  {
   "cell_type": "code",
   "execution_count": 8,
   "metadata": {},
   "outputs": [
    {
     "ename": "IndentationError",
     "evalue": "expected an indented block (<ipython-input-8-54e46533f6f9>, line 2)",
     "output_type": "error",
     "traceback": [
      "\u001b[0;36m  File \u001b[0;32m\"<ipython-input-8-54e46533f6f9>\"\u001b[0;36m, line \u001b[0;32m2\u001b[0m\n\u001b[0;31m    print('Five is greater than three')\u001b[0m\n\u001b[0m        ^\u001b[0m\n\u001b[0;31mIndentationError\u001b[0m\u001b[0;31m:\u001b[0m expected an indented block\n"
     ]
    }
   ],
   "source": [
    "if 5 > 3:\n",
    "print('Five is greater than three')"
   ]
  },
  {
   "cell_type": "markdown",
   "metadata": {},
   "source": [
    "We can also incorporate **boolean operators** (`and`, `or`, and `not`) into an `if` statement. The same rules apply: The indented block of code below the `if` statement will only execute if the overall expression is `True`.\n",
    "\n",
    "Try creating an `if` statement that includes one of the boolean operators using the variables defined below:"
   ]
  },
  {
   "cell_type": "code",
   "execution_count": 27,
   "metadata": {},
   "outputs": [],
   "source": [
    "b = 4\n",
    "c = 8\n",
    "\n",
    "# write your if statement here (and don't forget the colon!)\n"
   ]
  },
  {
   "cell_type": "markdown",
   "metadata": {},
   "source": [
    "## Else ##\n",
    "\n",
    "In some cases, we may want to execute some other block of code if the expression we're checking isn't `True`. For example, if your favourite restaurant is open at lunch, you'd choose to go there. But if it's closed, you probably won't just skip lunch - you'll decide to go somewhere else instead.\n",
    "\n",
    "In this sort of scenario, we can use the `else` statement, which is a complement to the `if` statement. An `if`/`else` pair says, \"if this expression is true, execute this block of code, otherwise, execute the code under the `else` statement instead.\"\n",
    "\n",
    "Here's a simple example:"
   ]
  },
  {
   "cell_type": "code",
   "execution_count": 14,
   "metadata": {},
   "outputs": [
    {
     "name": "stdout",
     "output_type": "stream",
     "text": [
      "This will be printed!\n"
     ]
    }
   ],
   "source": [
    "if 5 < 3:\n",
    "    print('This will not be printed!')\n",
    "else:\n",
    "    print('This will be printed!')"
   ]
  },
  {
   "cell_type": "markdown",
   "metadata": {},
   "source": [
    "Notice that there's still a `:` after `else`, and the code below `else` is still indented.\n",
    "\n",
    "\n",
    "Now let's try something a little harder using our aforementioned restaurant scenario. Let's assume we want to go to Famoso, which is open from 16:00 to 23:00. We want to go for lunch from 12:00 to 13:00. Write an `if`/`else` statement to determine whether we can have lunch there, and if we can't, `print` a different restaurant suggestion. Some variables are defined for you:"
   ]
  },
  {
   "cell_type": "code",
   "execution_count": 15,
   "metadata": {},
   "outputs": [],
   "source": [
    "opening_hr = 1600\n",
    "closing_hr = 2300\n",
    "\n",
    "# write your if/else statement here!"
   ]
  },
  {
   "cell_type": "markdown",
   "metadata": {},
   "source": [
    "## Elif ##\n",
    "\n",
    "Sometimes we'll want multiple options or expressions to go through, rather than just one. For this purpose we can use `elif`, which is just short for \"else if\". It means exactly what you think: \"Otherwise, if this other expression is `True`, do this!\"\n",
    "\n",
    "An `elif` statement always comes after an `if` statement and before `else`. The `elif` statement is only checked if the preceding `if` statement is `False`. As you can guess, the `else` statement is then only checked if both the `if` and `elif` statements are `False`.\n",
    "\n",
    "Here's a simple example:"
   ]
  },
  {
   "cell_type": "code",
   "execution_count": 18,
   "metadata": {},
   "outputs": [
    {
     "name": "stdout",
     "output_type": "stream",
     "text": [
      "This will be printed!\n"
     ]
    }
   ],
   "source": [
    "if 5 < 3:\n",
    "    print('This will not be printed!')\n",
    "elif 5 > 3:\n",
    "    print('This will be printed!')"
   ]
  },
  {
   "cell_type": "markdown",
   "metadata": {},
   "source": [
    "Now try writing an `if`/`elif`/`else` statement using the variables `b` and `c` (defined above) following the guidelines in each comment:"
   ]
  },
  {
   "cell_type": "code",
   "execution_count": 19,
   "metadata": {},
   "outputs": [],
   "source": [
    "# make the if statement True!\n"
   ]
  },
  {
   "cell_type": "code",
   "execution_count": 20,
   "metadata": {},
   "outputs": [],
   "source": [
    "# make the if statement False, and the elif statement True!\n"
   ]
  },
  {
   "cell_type": "code",
   "execution_count": 21,
   "metadata": {},
   "outputs": [],
   "source": [
    "# make both the if and elif statements false!\n"
   ]
  },
  {
   "cell_type": "markdown",
   "metadata": {},
   "source": [
    "Though you can only ever have one `if` statement and one `else` statement, you can have as many `elif` statements as you like sandwiched between `if` and `else`. If the `if` statement isn't `True`, each `elif` statement will be checked sequentially until one of them is found to be `True`, and if none of them are, the `else` statement will be executed. "
   ]
  },
  {
   "cell_type": "markdown",
   "metadata": {},
   "source": [
    "## Practice ##\n",
    "\n",
    "Marco would like to know what letter grade he earned in his Spanish class, where he scored 78% on his first test and 84% on his second test. The tests are equally weighted. His teacher tells him that an _A_ is from 91-100%, a _B_ is 81-90%, a _C_ is 71-80%, a _D_ is 61-70%, and anything lower is an _F_. \n",
    "\n",
    "_Define three variables to describe Marco's exam scores and overall score, then write an `if`/`elif`/`else` statement to `print` Marco's final letter grade._"
   ]
  },
  {
   "cell_type": "code",
   "execution_count": null,
   "metadata": {},
   "outputs": [],
   "source": []
  },
  {
   "cell_type": "code",
   "execution_count": null,
   "metadata": {},
   "outputs": [],
   "source": []
  }
 ],
 "metadata": {
  "kernelspec": {
   "display_name": "Python 3",
   "language": "python",
   "name": "python3"
  },
  "language_info": {
   "codemirror_mode": {
    "name": "ipython",
    "version": 3
   },
   "file_extension": ".py",
   "mimetype": "text/x-python",
   "name": "python",
   "nbconvert_exporter": "python",
   "pygments_lexer": "ipython3",
   "version": "3.7.3"
  }
 },
 "nbformat": 4,
 "nbformat_minor": 2
}
