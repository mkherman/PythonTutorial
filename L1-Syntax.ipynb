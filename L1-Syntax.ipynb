{
 "cells": [
  {
   "cell_type": "markdown",
   "metadata": {},
   "source": [
    "# Lesson 1: Syntax and Arithmetic in Python #"
   ]
  },
  {
   "cell_type": "markdown",
   "metadata": {},
   "source": [
    "Programming is all about interacting with your computer in useful ways. So if we're going to interact, we should learn how to make our computer speak! In Python this is done with the `print` statement."
   ]
  },
  {
   "cell_type": "code",
   "execution_count": 3,
   "metadata": {},
   "outputs": [
    {
     "name": "stdout",
     "output_type": "stream",
     "text": [
      "Hello World!\n"
     ]
    }
   ],
   "source": [
    "print('Hello World!')"
   ]
  },
  {
   "cell_type": "markdown",
   "metadata": {},
   "source": [
    "## Data Types ##\n",
    "\n",
    "We can print many things, but the **data type** is important to consider. Above, we've printed a **string**, which is a series of symbols enclosed by quotation marks. You can use double or single quotation marks, as long as they match on either side.\n",
    "\n",
    "Two other data types are **integers** and **floating point numbers**. Here are examples of all three data types:\n",
    "\n",
    "- `str` : 'twenty', '20', \"twentyyyyy\"\n",
    "- `int` : 20\n",
    "- `float` : 20.0, 20., 2e1\n",
    "\n",
    "### Examples: ### \n",
    "Let's try adding different data types to see how they behave:"
   ]
  },
  {
   "cell_type": "code",
   "execution_count": 7,
   "metadata": {},
   "outputs": [
    {
     "name": "stdout",
     "output_type": "stream",
     "text": [
      "I am learning Python!\n",
      "2\n",
      "2.0\n"
     ]
    }
   ],
   "source": [
    "print('I am learning ' + 'Python!')\n",
    "print(1 + 1)\n",
    "print(1.0 + 1.0)"
   ]
  },
  {
   "cell_type": "markdown",
   "metadata": {},
   "source": [
    "Now try printing an `int` plus a `float`. What data type is the output?"
   ]
  },
  {
   "cell_type": "code",
   "execution_count": null,
   "metadata": {},
   "outputs": [],
   "source": []
  },
  {
   "cell_type": "markdown",
   "metadata": {},
   "source": [
    "Let's try printing a `str` plus an `int`:"
   ]
  },
  {
   "cell_type": "code",
   "execution_count": 8,
   "metadata": {},
   "outputs": [
    {
     "ename": "TypeError",
     "evalue": "can only concatenate str (not \"int\") to str",
     "output_type": "error",
     "traceback": [
      "\u001b[0;31m---------------------------------------------------------------------------\u001b[0m",
      "\u001b[0;31mTypeError\u001b[0m                                 Traceback (most recent call last)",
      "\u001b[0;32m<ipython-input-8-89d42ef6ec91>\u001b[0m in \u001b[0;36m<module>\u001b[0;34m\u001b[0m\n\u001b[0;32m----> 1\u001b[0;31m \u001b[0mprint\u001b[0m\u001b[0;34m(\u001b[0m\u001b[0;34m'Attempt Number '\u001b[0m \u001b[0;34m+\u001b[0m \u001b[0;36m1\u001b[0m\u001b[0;34m)\u001b[0m\u001b[0;34m\u001b[0m\u001b[0;34m\u001b[0m\u001b[0m\n\u001b[0m",
      "\u001b[0;31mTypeError\u001b[0m: can only concatenate str (not \"int\") to str"
     ]
    }
   ],
   "source": [
    "print('Attempt Number ' + 1)"
   ]
  },
  {
   "cell_type": "markdown",
   "metadata": {},
   "source": [
    "We got an error, because we can't add a `str` and `int` together (or a `str` and `float`). Instead, we need to convert our `int` to a `str`:"
   ]
  },
  {
   "cell_type": "code",
   "execution_count": 10,
   "metadata": {},
   "outputs": [
    {
     "name": "stdout",
     "output_type": "stream",
     "text": [
      "Attempt Number 1\n"
     ]
    }
   ],
   "source": [
    "print('Attempt Number ' + str(1))"
   ]
  },
  {
   "cell_type": "markdown",
   "metadata": {},
   "source": [
    "## Variables ##\n",
    "\n",
    "In programming, we're probably going to deal with data that can change in value or be manipulated in some way. We can define a **variable** as something whose value can be changed. The name of a variable can be anything you want, as long as there are no spaces and it does not start with a number."
   ]
  },
  {
   "cell_type": "code",
   "execution_count": 15,
   "metadata": {},
   "outputs": [
    {
     "name": "stdout",
     "output_type": "stream",
     "text": [
      "5\n"
     ]
    }
   ],
   "source": [
    "my_variable = 5\n",
    "print(my_variable)"
   ]
  },
  {
   "cell_type": "markdown",
   "metadata": {},
   "source": [
    "## Arithmetic ##\n",
    "\n",
    "Some obvious examples of basic arithmetic operations in Python are add `+`, subtract `-`, multiply `*`, divide `/`, and raising to a power `**`.\n",
    "\n",
    "Try creating a variable defined as the product of two numbers (you can use two `int`, two `float`, or one of each). Print the variable on a new line. Then try creating and printing a variable defined as some number raised to the power of 2."
   ]
  },
  {
   "cell_type": "code",
   "execution_count": null,
   "metadata": {},
   "outputs": [],
   "source": []
  },
  {
   "cell_type": "markdown",
   "metadata": {},
   "source": [
    "Some less common examples of arithmetic operations are floor division `//`, which always returns an `int`, and the modulo operator `%`, which returns the remainder of two numbers. "
   ]
  },
  {
   "cell_type": "markdown",
   "metadata": {},
   "source": [
    "### Examples ###\n",
    "Here are some examples of these operations compared to normal division. Try using some different numbers and/or operators, if you like."
   ]
  },
  {
   "cell_type": "code",
   "execution_count": 18,
   "metadata": {},
   "outputs": [
    {
     "data": {
      "text/plain": [
       "2.5"
      ]
     },
     "execution_count": 18,
     "metadata": {},
     "output_type": "execute_result"
    }
   ],
   "source": [
    "my_variable / 2"
   ]
  },
  {
   "cell_type": "code",
   "execution_count": 19,
   "metadata": {},
   "outputs": [
    {
     "data": {
      "text/plain": [
       "2"
      ]
     },
     "execution_count": 19,
     "metadata": {},
     "output_type": "execute_result"
    }
   ],
   "source": [
    "my_variable // 2"
   ]
  },
  {
   "cell_type": "code",
   "execution_count": 20,
   "metadata": {},
   "outputs": [
    {
     "data": {
      "text/plain": [
       "1"
      ]
     },
     "execution_count": 20,
     "metadata": {},
     "output_type": "execute_result"
    }
   ],
   "source": [
    "my_variable % 2"
   ]
  },
  {
   "cell_type": "markdown",
   "metadata": {},
   "source": [
    "### Practice ###\n",
    "\n",
    "Alice would like to keep track of how much water she drinks over the course of a day. At the beginning of her day, she has a water bottle filled to 1000 mL. _Define a variable to represent this._\n",
    "\n",
    "At 9am, she drank 120 mL. At noon, she drank 208 mL. At 3pm, she drank 216 mL. At 6pm, she drank 302 mL, and at 9pm she drank 144 mL. _Define variables to represent each of these times._\n",
    "\n",
    "_Update the amount of water in Alice's water bottle to reflect how much she has left after 9pm, then print it._\n",
    "\n",
    "On average, how much water did Alice drink per hour? _Create a new variable to determine this, then print it in the form 'Alice drank ___ mL of water per hour'._"
   ]
  },
  {
   "cell_type": "code",
   "execution_count": null,
   "metadata": {},
   "outputs": [],
   "source": []
  },
  {
   "cell_type": "code",
   "execution_count": null,
   "metadata": {},
   "outputs": [],
   "source": []
  },
  {
   "cell_type": "code",
   "execution_count": null,
   "metadata": {},
   "outputs": [],
   "source": []
  }
 ],
 "metadata": {
  "kernelspec": {
   "display_name": "Python 3",
   "language": "python",
   "name": "python3"
  },
  "language_info": {
   "codemirror_mode": {
    "name": "ipython",
    "version": 3
   },
   "file_extension": ".py",
   "mimetype": "text/x-python",
   "name": "python",
   "nbconvert_exporter": "python",
   "pygments_lexer": "ipython3",
   "version": "3.7.3"
  }
 },
 "nbformat": 4,
 "nbformat_minor": 2
}
