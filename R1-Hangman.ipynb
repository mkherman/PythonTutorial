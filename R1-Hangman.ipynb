{
 "cells": [
  {
   "cell_type": "markdown",
   "metadata": {},
   "source": [
    "# Review 1: Hangman! #"
   ]
  },
  {
   "cell_type": "markdown",
   "metadata": {},
   "source": [
    "Today we’re going to put all of our knowledge to the test and write a Python script from scratch to create an interactive game of Hangman! This should make use of for loops, while loops, if/elif/else statements, lists, variables, comparators, and more.\n",
    "\n",
    "To do this, there’s a few small new concepts we need to introduce. The first is the `input()` function. This function prompts you to provide an input _after_ you execute the code, and stores the input as a `str`. Let’s see it in action:"
   ]
  },
  {
   "cell_type": "code",
   "execution_count": 1,
   "metadata": {},
   "outputs": [
    {
     "name": "stdout",
     "output_type": "stream",
     "text": [
      "What is your name? Miranda\n",
      "Hello, Miranda\n"
     ]
    }
   ],
   "source": [
    "name = input('What is your name? ')\n",
    "print( 'Hello,', name )"
   ]
  },
  {
   "cell_type": "markdown",
   "metadata": {},
   "source": [
    "The prompt can be anything you want (in this case, it's `‘What is your name?’`) as long as it’s a string, and the input can also be anything you want (in this case, it’s `Miranda`) but it will always be saved as a string.\n",
    "\n",
    "The second concept is the `append()` function. This lets you add an item to the end of a list. We can even start with an empty list, denoted with empty brackets `[]`:"
   ]
  },
  {
   "cell_type": "code",
   "execution_count": 1,
   "metadata": {},
   "outputs": [
    {
     "name": "stdout",
     "output_type": "stream",
     "text": [
      "[5]\n"
     ]
    }
   ],
   "source": [
    "my_list = []\n",
    "my_number = 5\n",
    "\n",
    "my_list.append(my_number)\n",
    "print(my_list)"
   ]
  },
  {
   "cell_type": "markdown",
   "metadata": {},
   "source": [
    "The final concept is a new way to print combinations of strings and other data types. For instance, say we want to print \"I am 25 years old.\": "
   ]
  },
  {
   "cell_type": "code",
   "execution_count": 5,
   "metadata": {},
   "outputs": [
    {
     "name": "stdout",
     "output_type": "stream",
     "text": [
      "I am 25 years old.\n",
      "I am 25 years old.\n",
      "I am 25 years old.\n"
     ]
    }
   ],
   "source": [
    "age = 25\n",
    "\n",
    "# old way of printing:\n",
    "print('I am ' + str(age) + ' years old.')\n",
    "\n",
    "# other old way of printing:\n",
    "print('I am', age, 'years old.')\n",
    "\n",
    "# new way:\n",
    "print(f'I am {age} years old.')"
   ]
  },
  {
   "cell_type": "markdown",
   "metadata": {},
   "source": [
    "The `f` in combination with the quotation marks is called an **f-string**. This basically tells Python that the string needs to be formatted. We can then put any variable we want into the curly brackets `{}` and Python will sort out the formatting for us."
   ]
  },
  {
   "cell_type": "markdown",
   "metadata": {},
   "source": [
    "## Hangman##\n",
    "\n",
    "Now on to Hangman! First let’s think about how the game of Hangman works, and how we need to set things up for the game. Take a minute to write out the steps involved in a game of Hangman.\n",
    "\n",
    "To make things a little easier for us, let’s create a list of 10 possible words, and then have the player choose a number from 1 to 10 to determine which word they’ll be guessing. For now it’ll be simplest if we choose words that have no repeated letters.\n",
    "\n",
    "We may also want to set a limit on the number of wrong guesses the player can make, and keep track of the letters they’ve already guessed. We’ll also need to think of a way to show which letters in the word are known vs unknown.\n",
    "\n",
    "**Things to consider:**\n",
    "\n",
    "What happens when the player...\n",
    "- gets a letter right? \n",
    "- gets a letter wrong? \n",
    "- has made too many wrong guesses? \n",
    "- guesses all the letters in the word?"
   ]
  },
  {
   "cell_type": "code",
   "execution_count": 5,
   "metadata": {},
   "outputs": [],
   "source": [
    "\"\"\"\n",
    "\n",
    "|---|\n",
    "|   o\n",
    "|  ---\n",
    "|   |\n",
    "|  | |\n",
    "|______\n",
    "\n",
    "\"\"\""
   ]
  },
  {
   "cell_type": "markdown",
   "metadata": {},
   "source": [
    "## Practice ##\n",
    "\n",
    "**Mad Libs!**\n",
    "\n",
    "Mad libs is a fun way to pass the time by filling in a series of blanks - with no context - to create a silly story. Traditionally one person will ask the other for a noun, an adjective, etc. until the story is complete, and then will read the nonsensical creation out loud for everyone’s amusement. We’re going to recreate that in Python!\n",
    "\n",
    "The mad lib we’ll use is below, and the words we need to fill in are denoted with curly brackets `{}`. Create a list of these needed words so that we can ask the player for an answer to each one, and create an empty list to store their answers. For the ones that have specific requirements (i.e., end in ’s’, weekend day, etc.), make sure you check that their answer is satisfactory. If it isn’t, ask for a different answer. Once all the answers are collected, print out the full mad lib!\n",
    "\n",
    "_Once upon a time there was an {noun starting with vowel}. It had {number above 20} {color} {plural noun ending in s}! One {day of the week} afternoon it met {famous person} near the {place} where they were {verb ending in ‘ing’}. It was very {adjective}; they both looked like {plural noun ending in s}! Then they parted ways, singing {song name} while they {past tense verb}._"
   ]
  },
  {
   "cell_type": "code",
   "execution_count": null,
   "metadata": {},
   "outputs": [],
   "source": []
  },
  {
   "cell_type": "code",
   "execution_count": null,
   "metadata": {},
   "outputs": [],
   "source": []
  }
 ],
 "metadata": {
  "kernelspec": {
   "display_name": "Python 3",
   "language": "python",
   "name": "python3"
  },
  "language_info": {
   "codemirror_mode": {
    "name": "ipython",
    "version": 3
   },
   "file_extension": ".py",
   "mimetype": "text/x-python",
   "name": "python",
   "nbconvert_exporter": "python",
   "pygments_lexer": "ipython3",
   "version": "3.7.3"
  }
 },
 "nbformat": 4,
 "nbformat_minor": 2
}
