{
 "cells": [
  {
   "cell_type": "markdown",
   "metadata": {},
   "source": [
    "# Review 1: Hangman! #"
   ]
  },
  {
   "cell_type": "markdown",
   "metadata": {},
   "source": [
    "Today we’re going to put all of our knowledge to the test and write a Python script from scratch to create an interactive game of Hangman! This should make use of for loops, while loops, if/elif/else statements, lists, variables, comparators, and more.\n",
    "\n",
    "To do this, there’s just one new concept we need to introduce: the `input()` function. This function prompts you to provide an input _after_ you execute the code, and stores the input as a `str`. Let’s see it in action:"
   ]
  },
  {
   "cell_type": "code",
   "execution_count": 1,
   "metadata": {},
   "outputs": [
    {
     "name": "stdout",
     "output_type": "stream",
     "text": [
      "What is your name? Miranda\n",
      "Hello, Miranda\n"
     ]
    }
   ],
   "source": [
    "name = input('What is your name? ')\n",
    "print( 'Hello,', name )"
   ]
  },
  {
   "cell_type": "markdown",
   "metadata": {},
   "source": [
    "The prompt can be anything you want (in this case, it's `‘What is your name?’`) as long as it’s a string, and the input can also be anything you want (in this case, it’s `Miranda`) but it will always be saved as a string."
   ]
  },
  {
   "cell_type": "markdown",
   "metadata": {},
   "source": [
    "## Hangman##\n",
    "\n",
    "Now on to Hangman! First let’s think about how the game of Hangman works, and how we need to set things up for the game. Take a minute to write out the steps involved in a game of Hangman.\n",
    "\n",
    "To make things a little easier for us, let’s create a list of 10 possible words, and then have the player choose a number from 1 to 10 to determine which word they’ll be guessing. For now it’ll be simplest if we choose words that have no repeated letters.\n",
    "\n",
    "We may also want to set a limit on the number of wrong guesses the player can make, and keep track of the letters they’ve already guessed. We’ll also need to think of a way to show which letters in the word are known vs unknown.\n",
    "\n",
    "**Things to consider:**\n",
    "\n",
    "What happens when the player...\n",
    "- gets a letter right? \n",
    "- gets a letter wrong? \n",
    "- has made too many wrong guesses? \n",
    "- guesses all the letters in the word?"
   ]
  },
  {
   "cell_type": "code",
   "execution_count": 5,
   "metadata": {},
   "outputs": [],
   "source": [
    "\"\"\"\n",
    "\n",
    "|---|\n",
    "|   o\n",
    "|  ---\n",
    "|   |\n",
    "|  | |\n",
    "|______\n",
    "\n",
    "\"\"\""
   ]
  },
  {
   "cell_type": "code",
   "execution_count": null,
   "metadata": {},
   "outputs": [],
   "source": []
  }
 ],
 "metadata": {
  "kernelspec": {
   "display_name": "Python 3",
   "language": "python",
   "name": "python3"
  },
  "language_info": {
   "codemirror_mode": {
    "name": "ipython",
    "version": 3
   },
   "file_extension": ".py",
   "mimetype": "text/x-python",
   "name": "python",
   "nbconvert_exporter": "python",
   "pygments_lexer": "ipython3",
   "version": "3.7.3"
  }
 },
 "nbformat": 4,
 "nbformat_minor": 2
}
