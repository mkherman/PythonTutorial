{
 "cells": [
  {
   "cell_type": "markdown",
   "metadata": {},
   "source": [
    "# Lesson 4: Lists and Loops #"
   ]
  },
  {
   "cell_type": "markdown",
   "metadata": {},
   "source": [
    "For most programming purposes, you likely won't be dealing with single values but rather large lists of values, perhaps corresponding to some series of measurements. In these cases, we can create a **list**.\n",
    "\n",
    "We can define a variable equal to a list of values using square brackets `[]`:"
   ]
  },
  {
   "cell_type": "code",
   "execution_count": 15,
   "metadata": {},
   "outputs": [
    {
     "name": "stdout",
     "output_type": "stream",
     "text": [
      "[1, 2, 3, 4, 5, 6, 7, 8, 9, 10]\n",
      "['a', 'b', 'c', 'd', 'e']\n"
     ]
    }
   ],
   "source": [
    "numbers = [1,2,3,4,5,6,7,8,9,10]\n",
    "print(numbers)\n",
    "\n",
    "letters = ['a', 'b', 'c', 'd', 'e']\n",
    "print(letters)"
   ]
  },
  {
   "cell_type": "markdown",
   "metadata": {},
   "source": [
    "## Indexing ##\n",
    "\n",
    "If we want to pull out a single value from our list, we can do so using the **index**. This describes a value's location or position within a list, and we reference the index using square brackets `[]`. \n",
    "\n",
    "One of the most important things to remember about Python is that **indexing starts from zero, not one**. So in our `numbers` list above, the number 1 has an index of zero, the number 5 has an index of four, and so on:"
   ]
  },
  {
   "cell_type": "code",
   "execution_count": 19,
   "metadata": {},
   "outputs": [
    {
     "name": "stdout",
     "output_type": "stream",
     "text": [
      "1 3 5\n"
     ]
    }
   ],
   "source": [
    "print( numbers[0], numbers[2], numbers[4] )"
   ]
  },
  {
   "cell_type": "markdown",
   "metadata": {},
   "source": [
    "We can also use indices to pick out specific parts of a list, like the first few values, or all but the last value, or some sequence of values in the middle. To do this we can use a colon `:` to specify a range of indices. For example:"
   ]
  },
  {
   "cell_type": "code",
   "execution_count": 20,
   "metadata": {},
   "outputs": [
    {
     "name": "stdout",
     "output_type": "stream",
     "text": [
      "[1, 2, 3, 4]\n"
     ]
    }
   ],
   "source": [
    "print( numbers[0:4] )"
   ]
  },
  {
   "cell_type": "markdown",
   "metadata": {},
   "source": [
    "Notice that this is **not inclusive** - although we specified indices zero to four, it only returns indices zero to three. Indexing will always end one index sooner than the index you indicate. For example, try printing indices six through eight _inclusive_ from the `numbers` list:"
   ]
  },
  {
   "cell_type": "code",
   "execution_count": null,
   "metadata": {
    "collapsed": true
   },
   "outputs": [],
   "source": []
  },
  {
   "cell_type": "markdown",
   "metadata": {},
   "source": [
    "We can also take a bit of a shortcut if we want to print everything up to a certain index, or print everything after a certain index. In these cases, we don't need to specify the starting or ending indices, respectively. Let's print everything before the 5th index, and then everything after:"
   ]
  },
  {
   "cell_type": "code",
   "execution_count": 21,
   "metadata": {},
   "outputs": [
    {
     "name": "stdout",
     "output_type": "stream",
     "text": [
      "[1, 2, 3, 4, 5]\n",
      "[6, 7, 8, 9, 10]\n"
     ]
    }
   ],
   "source": [
    "print( numbers[:5] )\n",
    "\n",
    "print( numbers[5:] )"
   ]
  },
  {
   "cell_type": "markdown",
   "metadata": {},
   "source": [
    "We can also define new variables that are equal to pieces of another list, like so:"
   ]
  },
  {
   "cell_type": "code",
   "execution_count": 26,
   "metadata": {},
   "outputs": [
    {
     "name": "stdout",
     "output_type": "stream",
     "text": [
      "[-15, -10, -5]\n",
      "[5, 10, 15]\n",
      "0\n"
     ]
    }
   ],
   "source": [
    "my_list = [-15, -10, -5, 0, 5, 10, 15]\n",
    "\n",
    "negatives = my_list[:3]\n",
    "positives = my_list[4:]\n",
    "zero = my_list[3]\n",
    "\n",
    "print( negatives )\n",
    "print( positives )\n",
    "print( zero )"
   ]
  },
  {
   "cell_type": "markdown",
   "metadata": {},
   "source": [
    "## For Loops ##"
   ]
  },
  {
   "cell_type": "markdown",
   "metadata": {},
   "source": [
    "A **for loop** is a piece of code that will be executed for each value in a specified list. Much like an **if statement**, the first line must end with a colon `:` and the following lines in the loop must be indented. \n",
    "\n",
    "For example, perhaps we'd like to print out the individual elements of our list one at a time:"
   ]
  },
  {
   "cell_type": "code",
   "execution_count": 2,
   "metadata": {},
   "outputs": [
    {
     "name": "stdout",
     "output_type": "stream",
     "text": [
      "The names of the students are:\n",
      "Emily\n",
      "James\n",
      "Andrew\n",
      "Maria\n"
     ]
    }
   ],
   "source": [
    "students = ['Emily', 'James', 'Andrew', 'Maria']\n",
    "print('The names of the students are:')\n",
    "\n",
    "for student in students:\n",
    "    print(student)"
   ]
  },
  {
   "cell_type": "markdown",
   "metadata": {},
   "source": [
    "Rather than specify the element we want to print, we can specify the index of the element. There are a few ways to do this. The first way is to the `range` and `len` functions (we'll learn more about functions later). The `len` function determines the **length** of your list; the `students` list has a length of four. The `range` function creates a list of values up to whatever number you specify, starting at zero and with a step size of 1 `[0,1,2,3,...n]`. "
   ]
  },
  {
   "cell_type": "code",
   "execution_count": 6,
   "metadata": {},
   "outputs": [
    {
     "name": "stdout",
     "output_type": "stream",
     "text": [
      "The indices and names of the students are:\n",
      "0 Emily\n",
      "1 James\n",
      "2 Andrew\n",
      "3 Maria\n"
     ]
    }
   ],
   "source": [
    "print('The indices and names of the students are:')\n",
    "\n",
    "for index in range( len(students) ):\n",
    "    print(index, students[index])"
   ]
  },
  {
   "cell_type": "markdown",
   "metadata": {},
   "source": [
    "Alternatively, we can use the `enumerate` function, which keeps track of both the element's index and value. This allows us to refer to an element with either method:"
   ]
  },
  {
   "cell_type": "code",
   "execution_count": 5,
   "metadata": {},
   "outputs": [
    {
     "name": "stdout",
     "output_type": "stream",
     "text": [
      "The indices and names of the students are:\n",
      "0 Emily\n",
      "1 James\n",
      "2 Andrew\n",
      "3 Maria\n"
     ]
    }
   ],
   "source": [
    "print('The indices and names of the students are:')\n",
    "\n",
    "for index, student in enumerate(students):\n",
    "    print(index, student)"
   ]
  },
  {
   "cell_type": "markdown",
   "metadata": {},
   "source": [
    "We can also incorporate **if statements** into our for loops (or for loops into our if statements). Try writing a for loop to iterate through the list below. If a value is less than 5, print something to indicate it. Make sure you keep track of your indents!"
   ]
  },
  {
   "cell_type": "code",
   "execution_count": 7,
   "metadata": {},
   "outputs": [],
   "source": [
    "values = [2,4,6,8,10]\n",
    "\n",
    "# write your for loop and if statement here!"
   ]
  },
  {
   "cell_type": "markdown",
   "metadata": {},
   "source": [
    "## While Loops ##"
   ]
  },
  {
   "cell_type": "markdown",
   "metadata": {},
   "source": [
    "A less frequently used but very powerful loop is called the **while loop**. It basically says, 'while something remains `True`, do this.' A while loop can be dangerous if you're not careful though, since it will run indefinitely until the criterion is no longer `True` (and that can lead to your computer temporarily running out of memory if you make a mistake). In comparison, a for loop ends when it reaches the end of the specified list or set of indices.\n",
    "\n",
    "So to reset the `True/False` nature of your while loop and eventually bring it to an end, something inside the loop should be updated with each iteration. For instance:"
   ]
  },
  {
   "cell_type": "code",
   "execution_count": 14,
   "metadata": {},
   "outputs": [
    {
     "name": "stdout",
     "output_type": "stream",
     "text": [
      "0\n",
      "1\n",
      "2\n",
      "3\n",
      "4\n"
     ]
    }
   ],
   "source": [
    "current_point = 0\n",
    "stopping_point = 5\n",
    "\n",
    "while current_point < stopping_point:\n",
    "    print(current_point)\n",
    "    current_point += 1"
   ]
  },
  {
   "cell_type": "markdown",
   "metadata": {},
   "source": [
    "## Practice ##\n",
    "\n",
    "Arya is in charge of keeping score for her soccer team, which includes tracking their wins, losses, and ties. In the lists below, she's recorded the scores for her team as well as their opponent at each game. \n",
    "\n",
    "_First, define three variables to represent the team's wins, losses, and ties, and set them to zero for now._\n",
    "\n",
    "_Create a for loop to iterate through the team's scores (hint: the list of opponent's scores will be the same length and therefore use the same indices)._\n",
    "\n",
    "_Within the for loop, create an if/elif/else statement to determine the outcome of each game. Update the win/loss/tie variables accordingly._\n",
    "\n",
    "_Print out the team's results._"
   ]
  },
  {
   "cell_type": "code",
   "execution_count": 11,
   "metadata": {},
   "outputs": [],
   "source": [
    "team_scores = [3,2,5,0,1,3,2,4,1,2]\n",
    "opponent_scores = [2,3,2,2,4,2,2,3,5,1]"
   ]
  },
  {
   "cell_type": "code",
   "execution_count": null,
   "metadata": {},
   "outputs": [],
   "source": []
  }
 ],
 "metadata": {
  "kernelspec": {
   "display_name": "Python 3",
   "language": "python",
   "name": "python3"
  },
  "language_info": {
   "codemirror_mode": {
    "name": "ipython",
    "version": 3
   },
   "file_extension": ".py",
   "mimetype": "text/x-python",
   "name": "python",
   "nbconvert_exporter": "python",
   "pygments_lexer": "ipython3",
   "version": "3.7.3"
  }
 },
 "nbformat": 4,
 "nbformat_minor": 2
}
