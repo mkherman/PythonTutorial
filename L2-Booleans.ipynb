{
 "cells": [
  {
   "cell_type": "markdown",
   "metadata": {},
   "source": [
    "# Lesson 2: Comments and Booleans #"
   ]
  },
  {
   "cell_type": "markdown",
   "metadata": {},
   "source": [
    "Code should generally be written in a way that is easy to understand on its own, but sometimes it's helpful to add **comments** to your code to describe some aspect. Comments are lines of code that are not executed by the computer, so they can say anything you want. You can even use comments to skip a line of code you don't want to run. \n",
    "\n",
    "There are two ways to write a comment:\n",
    "\n",
    "- `#` : For a single-line comment\n",
    "- `\"\"\"` or `'''` : For a multi-line comment\n",
    "\n",
    "The `#` character simply needs to be placed at the beginning of the single line you want to comment out. To comment out a series of lines, surround the lines with three quotation marks `\"\"\"` on either side. For example:"
   ]
  },
  {
   "cell_type": "code",
   "execution_count": 6,
   "metadata": {},
   "outputs": [],
   "source": [
    "# This is a single-line comment\n",
    "\n",
    "'''\n",
    "This is a\n",
    "3-line\n",
    "comment\n",
    "''';"
   ]
  },
  {
   "cell_type": "markdown",
   "metadata": {},
   "source": [
    "Try writing a comment in the provided line to describe what the code below does:"
   ]
  },
  {
   "cell_type": "code",
   "execution_count": 7,
   "metadata": {},
   "outputs": [
    {
     "name": "stdout",
     "output_type": "stream",
     "text": [
      "2\n"
     ]
    }
   ],
   "source": [
    "# Replace this text with your comment!\n",
    "a = 12\n",
    "b = 5\n",
    "c = a % b\n",
    "print(c)"
   ]
  },
  {
   "cell_type": "markdown",
   "metadata": {},
   "source": [
    "## Booleans ##\n",
    "\n",
    "One other data type we haven't discussed is called a **boolean**. A boolean is just defined as being either `True` or `False`. Technically, this is a special type of `int` where a value of `True` corresponds to 1 and `False` corresponds to 0. \n",
    "\n",
    "Here's an example of defining boolean variables:"
   ]
  },
  {
   "cell_type": "code",
   "execution_count": 15,
   "metadata": {
    "scrolled": true
   },
   "outputs": [
    {
     "name": "stdout",
     "output_type": "stream",
     "text": [
      "True\n",
      "False\n"
     ]
    }
   ],
   "source": [
    "Raptors_won = True\n",
    "Warriors_won = False\n",
    "\n",
    "print(Raptors_won) \n",
    "print(Warriors_won)"
   ]
  },
  {
   "cell_type": "markdown",
   "metadata": {},
   "source": [
    "### Comparators ###\n",
    "**Comparators** also return boolean values. As you can guess, these operators compare values between two numbers or variables. Some examples of comparators are:\n",
    "\n",
    "- `>` : greater than\n",
    "- `<` : less than\n",
    "- `>=` : greater than or equal to\n",
    "- `<=` : less than or equal to\n",
    "- `==` : equal to\n",
    "- `!=` : not equal to\n",
    "\n",
    "Note that `==` compares whether two things are equal, while `=` assigns a value to a variable.\n",
    "\n",
    "Try comparing the variables `a` and `b` (already defined above) using one of these comparators and print the result. The result of this comparison is called a **statement**."
   ]
  },
  {
   "cell_type": "code",
   "execution_count": null,
   "metadata": {},
   "outputs": [],
   "source": []
  },
  {
   "cell_type": "markdown",
   "metadata": {},
   "source": [
    "You can also compare strings, or combine comparators with arithmetic operations to produce a statement. You can even define a variable to be the result of that statement. For example:"
   ]
  },
  {
   "cell_type": "code",
   "execution_count": 32,
   "metadata": {},
   "outputs": [
    {
     "name": "stdout",
     "output_type": "stream",
     "text": [
      "False\n",
      "False\n",
      "True\n"
     ]
    }
   ],
   "source": [
    "print('hello' == 'aloha')\n",
    "\n",
    "print(25*4 != 10**2)\n",
    "\n",
    "statement = 12/3 >= 5-2\n",
    "print(statement)"
   ]
  },
  {
   "cell_type": "markdown",
   "metadata": {},
   "source": [
    "Try defining your own variable as a statement that will evaluate to `True`, using a different set of arithmetic operations and comparator. Then print your variable."
   ]
  },
  {
   "cell_type": "code",
   "execution_count": null,
   "metadata": {},
   "outputs": [],
   "source": []
  },
  {
   "cell_type": "markdown",
   "metadata": {},
   "source": [
    "### Boolean Operators ###\n",
    "**Boolean operators** compare statements, like the examples above, and also return boolean values. There are three boolean operators:\n",
    "- `and` : checks if both statements are `True`\n",
    "- `or` : checks if at least one statement is `True`\n",
    "- `not` : returns the opposite of the statement\n",
    "\n",
    "Let's set up some variables to compare, and then try out each boolean operator:"
   ]
  },
  {
   "cell_type": "code",
   "execution_count": 33,
   "metadata": {},
   "outputs": [],
   "source": [
    "this_is_true = 2 != 5\n",
    "this_is_false = 3 > 8"
   ]
  },
  {
   "cell_type": "code",
   "execution_count": 34,
   "metadata": {},
   "outputs": [
    {
     "name": "stdout",
     "output_type": "stream",
     "text": [
      "False\n"
     ]
    }
   ],
   "source": [
    "# The AND operator\n",
    "and_result = this_is_true and this_is_false\n",
    "print(and_result)"
   ]
  },
  {
   "cell_type": "code",
   "execution_count": 35,
   "metadata": {},
   "outputs": [
    {
     "name": "stdout",
     "output_type": "stream",
     "text": [
      "True\n"
     ]
    }
   ],
   "source": [
    "# The OR operator\n",
    "or_result = this_is_true or this_is_false\n",
    "print(or_result)"
   ]
  },
  {
   "cell_type": "code",
   "execution_count": 36,
   "metadata": {},
   "outputs": [
    {
     "name": "stdout",
     "output_type": "stream",
     "text": [
      "False\n"
     ]
    }
   ],
   "source": [
    "# The NOT opeartor\n",
    "not_result = not this_is_true\n",
    "print(not_result)"
   ]
  },
  {
   "cell_type": "markdown",
   "metadata": {},
   "source": [
    "### Order of Operations ###\n",
    "\n",
    "Much like arithmetic, boolean operators follow an order of operations: `not` is evaluated first, then `and`, then `or`. However, you can include parentheses `()` to make sure your expression is evaluated in the order you want. \n",
    "\n",
    "Take a look at the following:"
   ]
  },
  {
   "cell_type": "code",
   "execution_count": 37,
   "metadata": {},
   "outputs": [
    {
     "data": {
      "text/plain": [
       "True"
      ]
     },
     "execution_count": 37,
     "metadata": {},
     "output_type": "execute_result"
    }
   ],
   "source": [
    "True or not False and False"
   ]
  },
  {
   "cell_type": "markdown",
   "metadata": {},
   "source": [
    "In the code `True or not False and False`, first we evaluate `not False`, which gives `True`. So our expression becomes `True or True and False`. The `and` is evaluated next, so we compare just the `True and False` part, which gives `False`. Our total expression then reduces to `True or False`, which gives `True`, as output above.\n",
    "\n",
    "Try to go through the next one on your own:"
   ]
  },
  {
   "cell_type": "code",
   "execution_count": 52,
   "metadata": {},
   "outputs": [
    {
     "data": {
      "text/plain": [
       "False"
      ]
     },
     "execution_count": 52,
     "metadata": {},
     "output_type": "execute_result"
    }
   ],
   "source": [
    "(not not True or False) and not True"
   ]
  },
  {
   "cell_type": "markdown",
   "metadata": {},
   "source": [
    "## Practice ##\n",
    "\n",
    "Jamil and Jenny went apple picking. At the end of the day, Jamil has 5 empire apples and Jenny has 9, and they each have a number of Macintosh apples equal to 1.5 times their combined number of empire apples minus 10. _Define four variables to store these values._\n",
    "\n",
    "Jenny would like to know whether she has more empire apples than Jamil has Macintosh apples, and Jamil wants to know whether his apple count is equal to Jenny's. _Define two variables, each as a comparative expression, to answer their questions, then print the results._\n",
    "\n",
    "Is it true that Jamil's apple count is less than Jenny's or that Jenny has more Macintosh's than Jamil has empires? _Write an expression to evaluate this using boolean operators and print the result._"
   ]
  },
  {
   "cell_type": "code",
   "execution_count": null,
   "metadata": {},
   "outputs": [],
   "source": []
  },
  {
   "cell_type": "code",
   "execution_count": null,
   "metadata": {},
   "outputs": [],
   "source": []
  },
  {
   "cell_type": "code",
   "execution_count": null,
   "metadata": {},
   "outputs": [],
   "source": []
  }
 ],
 "metadata": {
  "kernelspec": {
   "display_name": "Python 3",
   "language": "python",
   "name": "python3"
  },
  "language_info": {
   "codemirror_mode": {
    "name": "ipython",
    "version": 3
   },
   "file_extension": ".py",
   "mimetype": "text/x-python",
   "name": "python",
   "nbconvert_exporter": "python",
   "pygments_lexer": "ipython3",
   "version": "3.7.3"
  }
 },
 "nbformat": 4,
 "nbformat_minor": 2
}
