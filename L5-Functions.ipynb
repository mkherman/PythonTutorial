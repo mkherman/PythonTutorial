{
 "cells": [
  {
   "cell_type": "markdown",
   "metadata": {},
   "source": [
    "# Lesson 5: Dictionaries and Functions #"
   ]
  },
  {
   "cell_type": "markdown",
   "metadata": {},
   "source": [
    "A **dictionary** in Python is much like a list in that it's a collection of objects. Each entry or **item** in a dictionary is a pair containing a **key** and a **value**. The keys can be of the data type `str`, `int`, `float`, or even a boolean - as long as a key isn't repeated. As for the values, there are no restrictions. The value could be a single number, a list, a `str`, anything.\n",
    "\n",
    "A dictionary is defined as follows:"
   ]
  },
  {
   "cell_type": "code",
   "execution_count": 10,
   "metadata": {},
   "outputs": [],
   "source": [
    "addams_family = { 'mom': 'Morticia',\n",
    "                  'dad': 'Gomez',\n",
    "                  'sister': 'Wednesday',\n",
    "                  'brother': 'Pugsley',\n",
    "                  'uncle': 'Fester'}"
   ]
  },
  {
   "cell_type": "markdown",
   "metadata": {},
   "source": [
    "Unlike a list, where the elements or values are accessed by their index, the values in a dictionary can only be accessed by their key:"
   ]
  },
  {
   "cell_type": "code",
   "execution_count": 11,
   "metadata": {},
   "outputs": [
    {
     "data": {
      "text/plain": [
       "'Wednesday'"
      ]
     },
     "execution_count": 11,
     "metadata": {},
     "output_type": "execute_result"
    }
   ],
   "source": [
    "addams_family['sister']"
   ]
  },
  {
   "cell_type": "code",
   "execution_count": 12,
   "metadata": {},
   "outputs": [
    {
     "ename": "KeyError",
     "evalue": "2",
     "output_type": "error",
     "traceback": [
      "\u001b[0;31m---------------------------------------------------------------------------\u001b[0m",
      "\u001b[0;31mKeyError\u001b[0m                                  Traceback (most recent call last)",
      "\u001b[0;32m<ipython-input-12-0e8effa89973>\u001b[0m in \u001b[0;36m<module>\u001b[0;34m\u001b[0m\n\u001b[0;32m----> 1\u001b[0;31m \u001b[0maddams_family\u001b[0m\u001b[0;34m[\u001b[0m\u001b[0;36m2\u001b[0m\u001b[0;34m]\u001b[0m\u001b[0;34m\u001b[0m\u001b[0;34m\u001b[0m\u001b[0m\n\u001b[0m",
      "\u001b[0;31mKeyError\u001b[0m: 2"
     ]
    }
   ],
   "source": [
    "addams_family[2]"
   ]
  },
  {
   "cell_type": "markdown",
   "metadata": {},
   "source": [
    "Like a list, though, we can see all the contents of a dictionary by printing it:"
   ]
  },
  {
   "cell_type": "code",
   "execution_count": 17,
   "metadata": {},
   "outputs": [
    {
     "name": "stdout",
     "output_type": "stream",
     "text": [
      "{'mom': 'Morticia', 'dad': 'Gomez', 'sister': 'Wednesday', 'brother': 'Pugsley', 'uncle': 'Fester', 'cousin': 'Itt'}\n"
     ]
    }
   ],
   "source": [
    "print( addams_family )"
   ]
  },
  {
   "cell_type": "markdown",
   "metadata": {},
   "source": [
    "With a list, recall that we add new elements to the list using the `append()` function. With a dictionary, we can add elements simply by assigning a new key and value. You can update the value associated with an existing key using the same method."
   ]
  },
  {
   "cell_type": "code",
   "execution_count": 15,
   "metadata": {},
   "outputs": [
    {
     "name": "stdout",
     "output_type": "stream",
     "text": [
      "{'mom': 'Morticia', 'dad': 'Gomez', 'sister': 'Wednesday', 'brother': 'Pugsley', 'uncle': 'Fester', 'cousin': 'Itt'}\n"
     ]
    }
   ],
   "source": [
    "addams_family['cousin'] = 'Itt'\n",
    "print( addams_family )"
   ]
  },
  {
   "cell_type": "markdown",
   "metadata": {},
   "source": [
    "A few other handy dictionary features are the `keys()` and `values()` functions. These return a list of all the keys and values in the dictionary, respectively:"
   ]
  },
  {
   "cell_type": "code",
   "execution_count": 25,
   "metadata": {},
   "outputs": [
    {
     "name": "stdout",
     "output_type": "stream",
     "text": [
      "['mom', 'dad', 'sister', 'brother', 'uncle', 'cousin']\n",
      "['Morticia', 'Gomez', 'Wednesday', 'Pugsley', 'Fester', 'Itt']\n"
     ]
    }
   ],
   "source": [
    "print( list(addams_family.keys() ))\n",
    "print( list(addams_family.values() ))"
   ]
  },
  {
   "cell_type": "markdown",
   "metadata": {},
   "source": [
    "### Practice ###\n",
    "\n",
    "Try defining your own dictionary to keep track of all the food in your fridge/kitchen. How many eggs do you have? How about apples? Print out at least one of the values, accessed by its associated key."
   ]
  },
  {
   "cell_type": "code",
   "execution_count": null,
   "metadata": {},
   "outputs": [],
   "source": []
  },
  {
   "cell_type": "markdown",
   "metadata": {},
   "source": [
    "## Functions ##"
   ]
  },
  {
   "cell_type": "markdown",
   "metadata": {},
   "source": [
    "In programming, we often end up repeating the same steps at different points in our code, and so we'd like a way to avoid that repetition and make our code more organized and manageable. **Functions** do just that. They break up our code into modular chunks, making that portion reusable when we call back on it later on. \n",
    "\n",
    "We've already made use of a few built-in Python functions (like `range`, `len`, `input`), but now we'll learn how to define our own. Let's look at an example:"
   ]
  },
  {
   "cell_type": "code",
   "execution_count": 37,
   "metadata": {},
   "outputs": [],
   "source": [
    "def greet(name):\n",
    "    sentence = 'Hello, '+ name + '!'\n",
    "    return sentence"
   ]
  },
  {
   "cell_type": "markdown",
   "metadata": {},
   "source": [
    "Above, we first define our function using the keyword `def`. This tells Python we're about to create a function. \n",
    "\n",
    "We then give our function a **name** (in this case, `greet`), which follows the same rules as naming a variable (i.e., no spaces, it can't start with a number, etc.). \n",
    "\n",
    "Inside the brackets, we provide a **parameter** for the function. This is _optional;_ your function may not need a parameter, or it can have as many as you want, as long as they're separated by commas. Don't forgot the colon `:` at the end of the line.\n",
    "\n",
    "On the following indented line(s), we have the **body** of the function. This can be almost anything you want, and might include for loops, if statements, print statements, etc. In most cases, it should be a stand-alone piece of code that depends only on the parameter(s) provided in the first line of the function definition.\n",
    "\n",
    "In the last line of our function, we have a `return` statement that returns a value from the function. This is also _optional;_ you may not need your function to return anything, or you may want to return multiple values. In the latter scenario, you would separate the desired values with commas. In our example we return the variable called `sentence`."
   ]
  },
  {
   "cell_type": "markdown",
   "metadata": {},
   "source": [
    "We've now defined our function, but how do we make use of it? To call a function, we just need to type in the function's name and provide an appropriate argument:"
   ]
  },
  {
   "cell_type": "code",
   "execution_count": 39,
   "metadata": {},
   "outputs": [
    {
     "data": {
      "text/plain": [
       "'Hello, Emilia!'"
      ]
     },
     "execution_count": 39,
     "metadata": {},
     "output_type": "execute_result"
    }
   ],
   "source": [
    "greet('Emilia')"
   ]
  },
  {
   "cell_type": "markdown",
   "metadata": {},
   "source": [
    "### Local vs Global Variables ##\n",
    "\n",
    "Variables defined within a function will not be accessible outside of that function. In this case, we say they are **local** rather than **global** variables. For instance, the local variable `sentence` only exists within our `greet` function, and will not be recognized outside of it:"
   ]
  },
  {
   "cell_type": "code",
   "execution_count": 40,
   "metadata": {},
   "outputs": [
    {
     "ename": "NameError",
     "evalue": "name 'sentence' is not defined",
     "output_type": "error",
     "traceback": [
      "\u001b[0;31m---------------------------------------------------------------------------\u001b[0m",
      "\u001b[0;31mNameError\u001b[0m                                 Traceback (most recent call last)",
      "\u001b[0;32m<ipython-input-40-8b4084aa8e62>\u001b[0m in \u001b[0;36m<module>\u001b[0;34m\u001b[0m\n\u001b[0;32m----> 1\u001b[0;31m \u001b[0mprint\u001b[0m\u001b[0;34m(\u001b[0m\u001b[0msentence\u001b[0m\u001b[0;34m)\u001b[0m\u001b[0;34m\u001b[0m\u001b[0;34m\u001b[0m\u001b[0m\n\u001b[0m",
      "\u001b[0;31mNameError\u001b[0m: name 'sentence' is not defined"
     ]
    }
   ],
   "source": [
    "print(sentence)"
   ]
  },
  {
   "cell_type": "markdown",
   "metadata": {},
   "source": [
    "On the other hand, variables defined outside of a function _will_ be recognized inside. Below, the global variable `global_var` can be used inside our new function:"
   ]
  },
  {
   "cell_type": "code",
   "execution_count": 46,
   "metadata": {},
   "outputs": [
    {
     "data": {
      "text/plain": [
       "15"
      ]
     },
     "execution_count": 46,
     "metadata": {},
     "output_type": "execute_result"
    }
   ],
   "source": [
    "global_var = 5\n",
    "\n",
    "def my_func():\n",
    "    local_var = 10\n",
    "    return global_var + local_var\n",
    "\n",
    "my_func()"
   ]
  },
  {
   "cell_type": "markdown",
   "metadata": {},
   "source": [
    "Confirm that the local variable `local_var` can't be used outside of our new function:"
   ]
  },
  {
   "cell_type": "code",
   "execution_count": null,
   "metadata": {},
   "outputs": [],
   "source": []
  },
  {
   "cell_type": "markdown",
   "metadata": {},
   "source": [
    "### Storing Output ###\n",
    "\n",
    "Finally, we may want to store the output from our function so that we can use it later, rather than having to call the function repeatedly. In this case we can simple create a variable and set it equal to the function we call:"
   ]
  },
  {
   "cell_type": "code",
   "execution_count": 49,
   "metadata": {},
   "outputs": [
    {
     "name": "stdout",
     "output_type": "stream",
     "text": [
      "Hello, Miranda!\n"
     ]
    }
   ],
   "source": [
    "greeting = greet('Miranda')\n",
    "print( greeting )"
   ]
  },
  {
   "cell_type": "markdown",
   "metadata": {},
   "source": [
    "Storing the output is very useful when the function is computationally expensive (i.e., takes a long time to complete) and we want to use the result in a number of places within our code."
   ]
  },
  {
   "cell_type": "markdown",
   "metadata": {},
   "source": [
    "## Practice ##\n",
    "\n",
    "**The Perfect Number**\n",
    "\n",
    "A perfect number is one that is equal to the sum of all its divisors. The first perfect number is 6, because its divisors are 1, 2, and 3, which all add to 1 + 2 + 3 = 6. \n",
    "\n",
    "Write a function to check if a number is perfect or not (_Hint: For each number, go through all numbers below it and check if the remainder is zero. If so, add that divisor to the sum, and finally check if the sum is equal to the original number. We discussed remainders in Lesson 1.)_\n",
    "\n",
    "Go through the numbers 1 to 50. How many perfect numbers are there? What about between 1 and 500?"
   ]
  },
  {
   "cell_type": "code",
   "execution_count": null,
   "metadata": {},
   "outputs": [],
   "source": []
  }
 ],
 "metadata": {
  "kernelspec": {
   "display_name": "Python 3",
   "language": "python",
   "name": "python3"
  },
  "language_info": {
   "codemirror_mode": {
    "name": "ipython",
    "version": 3
   },
   "file_extension": ".py",
   "mimetype": "text/x-python",
   "name": "python",
   "nbconvert_exporter": "python",
   "pygments_lexer": "ipython3",
   "version": "3.7.3"
  }
 },
 "nbformat": 4,
 "nbformat_minor": 2
}
