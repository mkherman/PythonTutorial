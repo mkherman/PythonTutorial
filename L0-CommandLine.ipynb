{
 "cells": [
  {
   "cell_type": "markdown",
   "metadata": {},
   "source": [
    "# Lesson 0: The Command Line #"
   ]
  },
  {
   "cell_type": "markdown",
   "metadata": {},
   "source": [
    "The **command line** is the text-based interface for your computer, much like Finder is the visual interface. You can navigate to different folders (directories), create and rename items, and more. You access the command line using the **Terminal** app. \n",
    "\n",
    "Some basic commands are:\n",
    "- `pwd` : outputs the full path of your present working directory\n",
    "- `ls` : lists all the files and sub-directories in your working directory\n",
    "- `cd` : navigates you to a directory you specify\n",
    "- `mkdir` : creates a new directory (within your working directory) with a name you specify\n",
    "- `touch` : creates a new file (within your working directory) with a name you specify\n",
    "\n",
    "### Examples: ###"
   ]
  },
  {
   "cell_type": "code",
   "execution_count": 1,
   "metadata": {},
   "outputs": [
    {
     "data": {
      "text/plain": [
       "'/Users/Miranda/Documents/PythonCourse'"
      ]
     },
     "execution_count": 1,
     "metadata": {},
     "output_type": "execute_result"
    }
   ],
   "source": [
    "pwd"
   ]
  },
  {
   "cell_type": "code",
   "execution_count": 18,
   "metadata": {},
   "outputs": [
    {
     "name": "stdout",
     "output_type": "stream",
     "text": [
      "ExampleFile.txt       L0-CommandLine.ipynb\r\n",
      "\u001b[34mExampleFolder\u001b[m\u001b[m/        L1-Syntax.ipynb\r\n"
     ]
    }
   ],
   "source": [
    "ls"
   ]
  },
  {
   "cell_type": "code",
   "execution_count": 15,
   "metadata": {},
   "outputs": [
    {
     "name": "stdout",
     "output_type": "stream",
     "text": [
      "/Users/Miranda/Documents/PythonCourse/ExampleFolder\n"
     ]
    }
   ],
   "source": [
    "cd ExampleFolder"
   ]
  },
  {
   "cell_type": "markdown",
   "metadata": {},
   "source": [
    " "
   ]
  },
  {
   "cell_type": "markdown",
   "metadata": {},
   "source": [
    "\n",
    "\n",
    "If you want to go back to a previous folder, you can use `cd ..`"
   ]
  },
  {
   "cell_type": "code",
   "execution_count": 16,
   "metadata": {},
   "outputs": [
    {
     "name": "stdout",
     "output_type": "stream",
     "text": [
      "/Users/Miranda/Documents/PythonCourse\n"
     ]
    }
   ],
   "source": [
    "cd .."
   ]
  },
  {
   "cell_type": "markdown",
   "metadata": {},
   "source": [
    "To open a basic Python interface you can type `python` or `ipython` (for interactive mode), or type `jupyter notebook` to open a notebook like this one in your browser."
   ]
  },
  {
   "cell_type": "code",
   "execution_count": null,
   "metadata": {},
   "outputs": [],
   "source": []
  }
 ],
 "metadata": {
  "kernelspec": {
   "display_name": "Python 3",
   "language": "python",
   "name": "python3"
  },
  "language_info": {
   "codemirror_mode": {
    "name": "ipython",
    "version": 3
   },
   "file_extension": ".py",
   "mimetype": "text/x-python",
   "name": "python",
   "nbconvert_exporter": "python",
   "pygments_lexer": "ipython3",
   "version": "3.7.3"
  }
 },
 "nbformat": 4,
 "nbformat_minor": 2
}
